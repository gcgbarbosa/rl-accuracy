{
 "cells": [
  {
   "cell_type": "code",
   "execution_count": 26,
   "metadata": {},
   "outputs": [],
   "source": [
    "#imports for \n",
    "import pandas as pd\n",
    "import numpy as np"
   ]
  },
  {
   "cell_type": "code",
   "execution_count": 105,
   "metadata": {},
   "outputs": [],
   "source": [
    "# adicionar var Y na base normal\n",
    "df_normal = pd.read_csv('../data/db-bruno/result.csv')"
   ]
  },
  {
   "cell_type": "code",
   "execution_count": 106,
   "metadata": {},
   "outputs": [],
   "source": [
    "df_normal['y'] = 1"
   ]
  },
  {
   "cell_type": "code",
   "execution_count": 89,
   "metadata": {},
   "outputs": [],
   "source": [
    "df_reverso = pd.read_csv('../data/db-bruno/result_inverso.csv', sep=';')"
   ]
  },
  {
   "cell_type": "code",
   "execution_count": 90,
   "metadata": {},
   "outputs": [],
   "source": [
    "# fazer merge com a base reversa\n",
    "result = pd.merge(df_reverso,\n",
    "                 df_normal,\n",
    "                how='left',\n",
    "                 on=['Nome_m', 'Nome_n', 'Mae_m', 'Mae_n', 'Data_m', 'Data_n', 'Munic_m',\n",
    "       'Munic_n', 'sexo_m', 'sexo_n'])"
   ]
  },
  {
   "cell_type": "code",
   "execution_count": null,
   "metadata": {},
   "outputs": [],
   "source": [
    "# adicionar 0 pra var Y vazia "
   ]
  },
  {
   "cell_type": "code",
   "execution_count": 91,
   "metadata": {},
   "outputs": [],
   "source": [
    "result['y'] = np.where(result['y']==1, 1, 0)"
   ]
  },
  {
   "cell_type": "code",
   "execution_count": 92,
   "metadata": {},
   "outputs": [
    {
     "data": {
      "text/plain": [
       "467"
      ]
     },
     "execution_count": 92,
     "metadata": {},
     "output_type": "execute_result"
    }
   ],
   "source": [
    "sum(result['y']==1)"
   ]
  },
  {
   "cell_type": "code",
   "execution_count": 98,
   "metadata": {},
   "outputs": [],
   "source": [
    "result = result[['Nome_m', 'Nome_n', 'Mae_m', 'Mae_n', 'Data_m', 'Data_n', 'Munic_m',\n",
    "       'Munic_n', 'sexo_m', 'sexo_n', 'y', 'score_x']]"
   ]
  },
  {
   "cell_type": "code",
   "execution_count": 100,
   "metadata": {},
   "outputs": [],
   "source": [
    "result.to_csv('../data/db-bruno/result-preproc.csv')"
   ]
  },
  {
   "cell_type": "code",
   "execution_count": 107,
   "metadata": {},
   "outputs": [],
   "source": [
    "df_normal = df_normal[['Nome_m', 'Nome_n', 'Mae_m', 'Mae_n', 'Data_m', 'Data_n', 'Munic_m',\n",
    "       'Munic_n', 'sexo_m', 'sexo_n', 'y', 'score']]"
   ]
  },
  {
   "cell_type": "code",
   "execution_count": 109,
   "metadata": {},
   "outputs": [],
   "source": [
    "df_normal.to_csv('../data/db-bruno/df_normal-preproc.csv')\n",
    "# peguei só os diferentes de 1.0 e adicionei no final do dataset"
   ]
  }
 ],
 "metadata": {
  "kernelspec": {
   "display_name": "Python 3",
   "language": "python",
   "name": "python3"
  },
  "language_info": {
   "codemirror_mode": {
    "name": "ipython",
    "version": 3
   },
   "file_extension": ".py",
   "mimetype": "text/x-python",
   "name": "python",
   "nbconvert_exporter": "python",
   "pygments_lexer": "ipython3",
   "version": "3.7.1"
  }
 },
 "nbformat": 4,
 "nbformat_minor": 2
}
