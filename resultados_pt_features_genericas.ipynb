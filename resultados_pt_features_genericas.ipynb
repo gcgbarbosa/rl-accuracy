{
 "cells": [
  {
   "cell_type": "code",
   "execution_count": 2,
   "metadata": {},
   "outputs": [],
   "source": [
    "import extractor\n",
    "#from sklearn.feature_selection import RFE\n",
    "#\n",
    "from sklearn import svm\n",
    "from sklearn import linear_model\n",
    "from sklearn import tree\n",
    "from sklearn.naive_bayes import GaussianNB\n",
    "#\n",
    "from sklearn.svm import SVR\n",
    "#\n",
    "from sklearn.model_selection import cross_val_score"
   ]
  },
  {
   "cell_type": "code",
   "execution_count": 14,
   "metadata": {},
   "outputs": [],
   "source": [
    "df = extractor.gerarFeaturesPT('assets/reverb_sep_tags.txt')\n",
    "df['data'] = df['data'][500:1350]\n",
    "df['y'] = df['y'][500:1350]"
   ]
  },
  {
   "cell_type": "code",
   "execution_count": 50,
   "metadata": {},
   "outputs": [
    {
     "name": "stdout",
     "output_type": "stream",
     "text": [
      "accuracy: 0.703 (+/- 0.037)\n",
      "precision: 0.712 (+/- 0.023)\n",
      "recall: 0.932 (+/- 0.041)\n",
      "f1: 0.807 (+/- 0.024)\n"
     ]
    }
   ],
   "source": [
    "clf = svm.SVC(kernel='linear', C=1)\n",
    "scores = {}\n",
    "scores['accuracy'] = cross_val_score(clf, df['data'], df['y'], cv=10, scoring='accuracy')\n",
    "scores['precision'] = cross_val_score(clf, df['data'], df['y'], cv=10, scoring='precision')\n",
    "scores['recall'] = cross_val_score(clf, df['data'], df['y'], cv=10, scoring='recall')\n",
    "scores['f1'] = cross_val_score(clf, df['data'], df['y'], cv=10, scoring='f1')\n",
    "\n",
    "\n",
    "for score in scores:\n",
    "    print(score+\": %0.3f (+/- %0.3f)\" % (scores[score].mean(), scores[score].std()))"
   ]
  },
  {
   "cell_type": "code",
   "execution_count": 49,
   "metadata": {},
   "outputs": [
    {
     "name": "stdout",
     "output_type": "stream",
     "text": [
      "accuracy: 0.707 (+/- 0.046)\n",
      "precision: 0.736 (+/- 0.029)\n",
      "recall: 0.879 (+/- 0.086)\n",
      "f1: 0.798 (+/- 0.041)\n"
     ]
    }
   ],
   "source": [
    "clf = linear_model.LogisticRegression(C=1., solver='lbfgs')\n",
    "scores = {}\n",
    "scores['accuracy'] = cross_val_score(clf, df['data'], df['y'], cv=10, scoring='accuracy')\n",
    "scores['precision'] = cross_val_score(clf, df['data'], df['y'], cv=10, scoring='precision')\n",
    "scores['recall'] = cross_val_score(clf, df['data'], df['y'], cv=10, scoring='recall')\n",
    "scores['f1'] = cross_val_score(clf, df['data'], df['y'], cv=10, scoring='f1')\n",
    "\n",
    "for score in scores:\n",
    "    print(score+\": %0.3f (+/- %0.3f)\" % (scores[score].mean(), scores[score].std()))"
   ]
  },
  {
   "cell_type": "code",
   "execution_count": 47,
   "metadata": {},
   "outputs": [
    {
     "name": "stdout",
     "output_type": "stream",
     "text": [
      "accuracy: 0.667 (+/- 0.046)\n",
      "precision: 0.759 (+/- 0.028)\n",
      "recall: 0.720 (+/- 0.084)\n",
      "f1: 0.749 (+/- 0.038)\n"
     ]
    }
   ],
   "source": [
    "clf = tree.DecisionTreeClassifier()\n",
    "scores = {}\n",
    "scores['accuracy'] = cross_val_score(clf, df['data'], df['y'], cv=10, scoring='accuracy')\n",
    "scores['precision'] = cross_val_score(clf, df['data'], df['y'], cv=10, scoring='precision')\n",
    "scores['recall'] = cross_val_score(clf, df['data'], df['y'], cv=10, scoring='recall')\n",
    "scores['f1'] = cross_val_score(clf, df['data'], df['y'], cv=10, scoring='f1')\n",
    "\n",
    "for score in scores:\n",
    "    print(score+\": %0.3f (+/- %0.3f)\" % (scores[score].mean(), scores[score].std()))"
   ]
  },
  {
   "cell_type": "code",
   "execution_count": 41,
   "metadata": {},
   "outputs": [
    {
     "name": "stdout",
     "output_type": "stream",
     "text": [
      "accuracy: 0.668 (+/- 0.043)\n",
      "precision: 0.742 (+/- 0.034)\n",
      "recall: 0.731 (+/- 0.104)\n",
      "f1: 0.743 (+/- 0.030)\n"
     ]
    }
   ],
   "source": [
    "cls = GaussianNB()\n",
    "\n",
    "scores = {}\n",
    "scores['accuracy'] = cross_val_score(clf, df['data'], df['y'], cv=10, scoring='accuracy')\n",
    "scores['precision'] = cross_val_score(clf, df['data'], df['y'], cv=10, scoring='precision')\n",
    "scores['recall'] = cross_val_score(clf, df['data'], df['y'], cv=10, scoring='recall')\n",
    "scores['f1'] = cross_val_score(clf, df['data'], df['y'], cv=10, scoring='f1')\n",
    "\n",
    "for score in scores:\n",
    "    print(score+\": %0.3f (+/- %0.3f)\" % (scores[score].mean(), scores[score].std()))"
   ]
  },
  {
   "cell_type": "code",
   "execution_count": 51,
   "metadata": {},
   "outputs": [
    {
     "name": "stdout",
     "output_type": "stream",
     "text": [
      "0.695652173913\n",
      "0.695652173913\n",
      "0.710144927536\n",
      "0.705882352941\n",
      "0.75\n",
      "0.764705882353\n",
      "0.691176470588\n",
      "0.597014925373\n",
      "0.701492537313\n",
      "0.761194029851\n"
     ]
    }
   ],
   "source": [
    "clf = linear_model.LogisticRegression(C=1., solver='lbfgs')\n",
    "\n",
    "accuracy = cross_val_score(clf, df['data'], df['y'], cv=10, scoring='accuracy')\n",
    "\n",
    "for v in accuracy:\n",
    "    print(v)"
   ]
  }
 ],
 "metadata": {
  "kernelspec": {
   "display_name": "Python 3",
   "language": "python",
   "name": "python3"
  },
  "language_info": {
   "codemirror_mode": {
    "name": "ipython",
    "version": 3
   },
   "file_extension": ".py",
   "mimetype": "text/x-python",
   "name": "python",
   "nbconvert_exporter": "python",
   "pygments_lexer": "ipython3",
   "version": "3.6.5"
  }
 },
 "nbformat": 4,
 "nbformat_minor": 2
}
