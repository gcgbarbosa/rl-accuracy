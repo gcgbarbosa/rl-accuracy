{
 "cells": [
  {
   "cell_type": "markdown",
   "metadata": {},
   "source": [
    "##### Read data"
   ]
  },
  {
   "cell_type": "code",
   "execution_count": null,
   "metadata": {},
   "outputs": [],
   "source": [
    "entrada dos modelos:\n",
    "    \n",
    "variavel com features\n",
    "variavel com y"
   ]
  },
  {
   "cell_type": "markdown",
   "metadata": {},
   "source": [
    "#### Imports"
   ]
  },
  {
   "cell_type": "code",
   "execution_count": 21,
   "metadata": {},
   "outputs": [],
   "source": []
  },
  {
   "cell_type": "code",
   "execution_count": 24,
   "metadata": {
    "scrolled": true
   },
   "outputs": [
    {
     "name": "stdout",
     "output_type": "stream",
     "text": [
      "accuracy: 0.714 (+/- 0.027)\n",
      "precision: 0.717 (+/- 0.014)\n",
      "recall: 0.982 (+/- 0.030)\n",
      "f1: 0.828 (+/- 0.017)\n"
     ]
    }
   ],
   "source": []
  },
  {
   "cell_type": "code",
   "execution_count": 34,
   "metadata": {},
   "outputs": [
    {
     "name": "stdout",
     "output_type": "stream",
     "text": [
      "accuracy: 0.701 (+/- 0.069)\n",
      "precision: 0.737 (+/- 0.040)\n",
      "recall: 0.900 (+/- 0.103)\n",
      "f1: 0.807 (+/- 0.054)\n"
     ]
    },
    {
     "data": {
      "text/plain": [
       "array([ 0.625     ,  0.75      ,  0.80645161,  0.70967742,  0.64516129,\n",
       "        0.58064516,  0.64516129,  0.77419355,  0.74193548,  0.73333333])"
      ]
     },
     "execution_count": 34,
     "metadata": {},
     "output_type": "execute_result"
    }
   ],
   "source": []
  },
  {
   "cell_type": "code",
   "execution_count": 26,
   "metadata": {},
   "outputs": [
    {
     "name": "stdout",
     "output_type": "stream",
     "text": [
      "accuracy: 0.598 (+/- 0.097)\n",
      "precision: 0.725 (+/- 0.075)\n",
      "recall: 0.667 (+/- 0.087)\n",
      "f1: 0.690 (+/- 0.068)\n"
     ]
    }
   ],
   "source": [
    "# DECISION TREE\n",
    "clf = tree.DecisionTreeClassifier()\n",
    "f1 = cross_val_score(clf, data['features'], data['y'], cv=10, scoring='f1')\n",
    "recall = cross_val_score(clf, data['features'], data['y'], cv=10, scoring='recall')\n",
    "precision = cross_val_score(clf, data['features'], data['y'], cv=10, scoring='precision')\n",
    "accuracy = cross_val_score(clf, data['features'], data['y'], cv=10, scoring='accuracy')\n",
    "\n",
    "print(\"accuracy: %0.3f (+/- %0.3f)\" % (accuracy.mean(), accuracy.std()*2 ))\n",
    "print(\"precision: %0.3f (+/- %0.3f)\" % (precision.mean(), precision.std()*2 ))\n",
    "print(\"recall: %0.3f (+/- %0.3f)\" % (recall.mean(), recall.std()*2 ))\n",
    "print(\"f1: %0.3f (+/- %0.3f)\" % (f1.mean(), f1.std()*2 ))"
   ]
  },
  {
   "cell_type": "code",
   "execution_count": 27,
   "metadata": {},
   "outputs": [
    {
     "name": "stdout",
     "output_type": "stream",
     "text": [
      "accuracy: 0.598 (+/- 0.062)\n",
      "precision: 0.761 (+/- 0.069)\n",
      "recall: 0.640 (+/- 0.097)\n",
      "f1: 0.688 (+/- 0.059)\n"
     ]
    }
   ],
   "source": [
    "# NAIVE BAYES\n",
    "clf = naive_bayes.GaussianNB()\n",
    "f1 = cross_val_score(clf, data['features'], data['y'], cv=10, scoring='f1')\n",
    "recall = cross_val_score(clf, data['features'], data['y'], cv=10, scoring='recall')\n",
    "precision = cross_val_score(clf, data['features'], data['y'], cv=10, scoring='precision')\n",
    "accuracy = cross_val_score(clf, data['features'], data['y'], cv=10, scoring='accuracy')\n",
    "\n",
    "print(\"accuracy: %0.3f (+/- %0.3f)\" % (accuracy.mean(), accuracy.std()*2 ))\n",
    "print(\"precision: %0.3f (+/- %0.3f)\" % (precision.mean(), precision.std()*2 ))\n",
    "print(\"recall: %0.3f (+/- %0.3f)\" % (recall.mean(), recall.std()*2 ))\n",
    "print(\"f1: %0.3f (+/- %0.3f)\" % (f1.mean(), f1.std()*2 ))"
   ]
  }
 ],
 "metadata": {
  "kernelspec": {
   "display_name": "Python 3",
   "language": "python",
   "name": "python3"
  },
  "language_info": {
   "codemirror_mode": {
    "name": "ipython",
    "version": 3
   },
   "file_extension": ".py",
   "mimetype": "text/x-python",
   "name": "python",
   "nbconvert_exporter": "python",
   "pygments_lexer": "ipython3",
   "version": "3.6.5"
  }
 },
 "nbformat": 4,
 "nbformat_minor": 2
}
